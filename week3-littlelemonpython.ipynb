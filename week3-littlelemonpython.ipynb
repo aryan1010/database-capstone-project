{
 "cells": [
  {
   "cell_type": "code",
   "execution_count": 1,
   "id": "c4e3e8ea",
   "metadata": {},
   "outputs": [
    {
     "name": "stdout",
     "output_type": "stream",
     "text": [
      "Collecting mysql-connector-python\n",
      "  Downloading mysql_connector_python-8.0.32-py2.py3-none-any.whl (381 kB)\n",
      "\u001b[2K     \u001b[90m━━━━━━━━━━━━━━━━━━━━━━━━━━━━━━━━━━━━━━━\u001b[0m \u001b[32m381.6/381.6 kB\u001b[0m \u001b[31m1.3 MB/s\u001b[0m eta \u001b[36m0:00:00\u001b[0ma \u001b[36m0:00:01\u001b[0m\n",
      "\u001b[?25hRequirement already satisfied: protobuf<=3.20.3,>=3.11.0 in /Users/dipenthapa/opt/anaconda3/lib/python3.9/site-packages (from mysql-connector-python) (3.19.1)\n",
      "Installing collected packages: mysql-connector-python\n",
      "Successfully installed mysql-connector-python-8.0.32\n",
      "\n",
      "\u001b[1m[\u001b[0m\u001b[34;49mnotice\u001b[0m\u001b[1;39;49m]\u001b[0m\u001b[39;49m A new release of pip available: \u001b[0m\u001b[31;49m22.3.1\u001b[0m\u001b[39;49m -> \u001b[0m\u001b[32;49m23.0\u001b[0m\n",
      "\u001b[1m[\u001b[0m\u001b[34;49mnotice\u001b[0m\u001b[1;39;49m]\u001b[0m\u001b[39;49m To update, run: \u001b[0m\u001b[32;49mpip install --upgrade pip\u001b[0m\n"
     ]
    }
   ],
   "source": [
    "!pip install mysql-connector-python"
   ]
  },
  {
   "cell_type": "code",
   "execution_count": 1,
   "id": "31ac6c3d",
   "metadata": {},
   "outputs": [],
   "source": [
    "import mysql.connector as connector"
   ]
  },
  {
   "cell_type": "code",
   "execution_count": 2,
   "id": "23a94f57",
   "metadata": {},
   "outputs": [],
   "source": [
    "connection = connector.connect(user = \"dipen\", password = \"1233215%\")"
   ]
  },
  {
   "cell_type": "code",
   "execution_count": null,
   "id": "7e4f3446",
   "metadata": {},
   "outputs": [],
   "source": []
  },
  {
   "cell_type": "code",
   "execution_count": 4,
   "id": "f8516057",
   "metadata": {},
   "outputs": [],
   "source": [
    "connection = connector.connect(user = \"dipen\", password = \"1233215%\", db = \"capston\") "
   ]
  },
  {
   "cell_type": "code",
   "execution_count": 5,
   "id": "f6ddc0d5",
   "metadata": {},
   "outputs": [],
   "source": [
    "cursor=connection.cursor()"
   ]
  },
  {
   "cell_type": "code",
   "execution_count": 6,
   "id": "bd852741",
   "metadata": {
    "scrolled": true
   },
   "outputs": [],
   "source": [
    "show_tables_query = \"SHOW tables\" \n",
    "results=cursor.execute(show_tables_query)"
   ]
  },
  {
   "cell_type": "code",
   "execution_count": 7,
   "id": "98be5c6f",
   "metadata": {},
   "outputs": [],
   "source": [
    "results"
   ]
  },
  {
   "cell_type": "code",
   "execution_count": 9,
   "id": "8d4fa5b0",
   "metadata": {},
   "outputs": [
    {
     "name": "stdout",
     "output_type": "stream",
     "text": [
      "Bookings\n",
      "ContactDetails\n",
      "Customers\n",
      "MenuContent\n",
      "MenuItems\n",
      "Menus\n",
      "OrderDeliveryStatus\n",
      "Orders\n",
      "Roles\n",
      "Staff\n"
     ]
    }
   ],
   "source": [
    "tables = cursor.fetchall()\n",
    "for table in tables:\n",
    "    print(table[0])"
   ]
  },
  {
   "cell_type": "code",
   "execution_count": 12,
   "id": "15312fc8",
   "metadata": {},
   "outputs": [],
   "source": [
    "customer_join_query = '''\n",
    "        SELECT\n",
    "            c.Name AS FullName,\n",
    "            cd.Email AS Email,\n",
    "            cd.PhoneNumber AS PhoneNumber,\n",
    "            cd.Address AS Address,\n",
    "            cd.Country AS Country,\n",
    "            cd.City AS City,\n",
    "            o.TotalCost AS Cost\n",
    "        FROM Customers c\n",
    "        JOIN ContactDetails cd\n",
    "            USING (CustomerID)\n",
    "        JOIN orders o\n",
    "            USING (CustomerID)\n",
    "        WHERE o.TotalCost > 60\n",
    "        ORDER BY o.TotalCost DESC;\n",
    "'''"
   ]
  },
  {
   "cell_type": "code",
   "execution_count": 13,
   "id": "f2ae490a",
   "metadata": {},
   "outputs": [],
   "source": [
    "cursor.execute(customer_join_query)\n"
   ]
  },
  {
   "cell_type": "code",
   "execution_count": 14,
   "id": "f3ed24b6",
   "metadata": {},
   "outputs": [],
   "source": [
    "customers = cursor.fetchall()\n"
   ]
  },
  {
   "cell_type": "code",
   "execution_count": 15,
   "id": "cfd25b01",
   "metadata": {},
   "outputs": [
    {
     "name": "stdout",
     "output_type": "stream",
     "text": [
      "There are 0 customers with more than $60 of spending...\n",
      "Printing the top 10 spenders...\n"
     ]
    }
   ],
   "source": [
    "print(f'There are {len(customers)} customers with more than $60 of spending...')\n",
    "print('Printing the top 10 spenders...')\n",
    "\n",
    "for customer in customers[:10]:\n",
    "    print('=' * 50)\n",
    "    print(f'Full Name: \\t {customer[0]}')\n",
    "    print(f'Email: \\t\\t {customer[1]}')\n",
    "    print(f'Phone Number: \\t {customer[2]}')\n",
    "    print(f'Address: \\t {customer[3]}')\n",
    "    print(f'Country: \\t {customer[4]}')\n",
    "    print(f'City: \\t\\t {customer[5]}')\n",
    "    print(f'Has spent: \\t {float(customer[6])}')"
   ]
  },
  {
   "cell_type": "code",
   "execution_count": null,
   "id": "73779b30",
   "metadata": {},
   "outputs": [],
   "source": []
  }
 ],
 "metadata": {
  "kernelspec": {
   "display_name": "Python 3 (ipykernel)",
   "language": "python",
   "name": "python3"
  },
  "language_info": {
   "codemirror_mode": {
    "name": "ipython",
    "version": 3
   },
   "file_extension": ".py",
   "mimetype": "text/x-python",
   "name": "python",
   "nbconvert_exporter": "python",
   "pygments_lexer": "ipython3",
   "version": "3.9.12"
  }
 },
 "nbformat": 4,
 "nbformat_minor": 5
}
